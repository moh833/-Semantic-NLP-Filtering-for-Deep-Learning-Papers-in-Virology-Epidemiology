{
 "cells": [
  {
   "cell_type": "code",
   "execution_count": 14,
   "metadata": {
    "vscode": {
     "languageId": "plaintext"
    }
   },
   "outputs": [],
   "source": [
    "import pandas as pd"
   ]
  },
  {
   "cell_type": "code",
   "execution_count": 15,
   "metadata": {},
   "outputs": [],
   "source": [
    "df_filtered = pd.read_csv('results/filtered_classified_papers.csv')\n",
    "df_methods = pd.read_csv('results/papers_with_methods_extracted.csv')"
   ]
  },
  {
   "cell_type": "code",
   "execution_count": 16,
   "metadata": {},
   "outputs": [],
   "source": [
    "df = pd.merge(df_filtered, df_methods[['PMID', 'method']], on='PMID', how='inner')"
   ]
  },
  {
   "cell_type": "code",
   "execution_count": 22,
   "metadata": {},
   "outputs": [],
   "source": [
    "df = df[['PMID', 'label', 'method']]"
   ]
  },
  {
   "cell_type": "code",
   "execution_count": 23,
   "metadata": {},
   "outputs": [
    {
     "data": {
      "text/html": [
       "<div>\n",
       "<style scoped>\n",
       "    .dataframe tbody tr th:only-of-type {\n",
       "        vertical-align: middle;\n",
       "    }\n",
       "\n",
       "    .dataframe tbody tr th {\n",
       "        vertical-align: top;\n",
       "    }\n",
       "\n",
       "    .dataframe thead th {\n",
       "        text-align: right;\n",
       "    }\n",
       "</style>\n",
       "<table border=\"1\" class=\"dataframe\">\n",
       "  <thead>\n",
       "    <tr style=\"text-align: right;\">\n",
       "      <th></th>\n",
       "      <th>PMID</th>\n",
       "      <th>label</th>\n",
       "      <th>method</th>\n",
       "    </tr>\n",
       "  </thead>\n",
       "  <tbody>\n",
       "    <tr>\n",
       "      <th>0</th>\n",
       "      <td>39390053</td>\n",
       "      <td>other</td>\n",
       "      <td>deep-learning</td>\n",
       "    </tr>\n",
       "    <tr>\n",
       "      <th>1</th>\n",
       "      <td>39363262</td>\n",
       "      <td>computer vision</td>\n",
       "      <td>immunomagnetic enrichment approach</td>\n",
       "    </tr>\n",
       "    <tr>\n",
       "      <th>2</th>\n",
       "      <td>39287522</td>\n",
       "      <td>text mining</td>\n",
       "      <td>post hoc analysis</td>\n",
       "    </tr>\n",
       "    <tr>\n",
       "      <th>3</th>\n",
       "      <td>39273393</td>\n",
       "      <td>both</td>\n",
       "      <td>digital image analysis</td>\n",
       "    </tr>\n",
       "    <tr>\n",
       "      <th>4</th>\n",
       "      <td>39269702</td>\n",
       "      <td>both</td>\n",
       "      <td>Negative binomial regression analyses</td>\n",
       "    </tr>\n",
       "    <tr>\n",
       "      <th>...</th>\n",
       "      <td>...</td>\n",
       "      <td>...</td>\n",
       "      <td>...</td>\n",
       "    </tr>\n",
       "    <tr>\n",
       "      <th>5827</th>\n",
       "      <td>21327782</td>\n",
       "      <td>text mining</td>\n",
       "      <td>Bayesian Markov chain Monte Carlo method</td>\n",
       "    </tr>\n",
       "    <tr>\n",
       "      <th>5828</th>\n",
       "      <td>32214737</td>\n",
       "      <td>text mining</td>\n",
       "      <td>epidemic diffusion model</td>\n",
       "    </tr>\n",
       "    <tr>\n",
       "      <th>5829</th>\n",
       "      <td>12236667</td>\n",
       "      <td>both</td>\n",
       "      <td>innovation-diffusion model</td>\n",
       "    </tr>\n",
       "    <tr>\n",
       "      <th>5830</th>\n",
       "      <td>10072741</td>\n",
       "      <td>both</td>\n",
       "      <td>Diffusion modeling</td>\n",
       "    </tr>\n",
       "    <tr>\n",
       "      <th>5831</th>\n",
       "      <td>9200018</td>\n",
       "      <td>text mining</td>\n",
       "      <td>diffusion model</td>\n",
       "    </tr>\n",
       "  </tbody>\n",
       "</table>\n",
       "<p>5832 rows × 3 columns</p>\n",
       "</div>"
      ],
      "text/plain": [
       "          PMID            label                                    method\n",
       "0     39390053            other                             deep-learning\n",
       "1     39363262  computer vision        immunomagnetic enrichment approach\n",
       "2     39287522      text mining                         post hoc analysis\n",
       "3     39273393             both                    digital image analysis\n",
       "4     39269702             both     Negative binomial regression analyses\n",
       "...        ...              ...                                       ...\n",
       "5827  21327782      text mining  Bayesian Markov chain Monte Carlo method\n",
       "5828  32214737      text mining                  epidemic diffusion model\n",
       "5829  12236667             both                innovation-diffusion model\n",
       "5830  10072741             both                        Diffusion modeling\n",
       "5831   9200018      text mining                           diffusion model\n",
       "\n",
       "[5832 rows x 3 columns]"
      ]
     },
     "execution_count": 23,
     "metadata": {},
     "output_type": "execute_result"
    }
   ],
   "source": [
    "df"
   ]
  },
  {
   "cell_type": "code",
   "execution_count": 24,
   "metadata": {},
   "outputs": [
    {
     "data": {
      "text/plain": [
       "label\n",
       "text mining        2657\n",
       "other              2018\n",
       "both                918\n",
       "computer vision     239\n",
       "Name: count, dtype: int64"
      ]
     },
     "execution_count": 24,
     "metadata": {},
     "output_type": "execute_result"
    }
   ],
   "source": [
    "df['label'].value_counts()"
   ]
  },
  {
   "cell_type": "code",
   "execution_count": 25,
   "metadata": {},
   "outputs": [],
   "source": [
    "df.to_csv('results/final_results.csv', index=False)"
   ]
  },
  {
   "cell_type": "code",
   "execution_count": null,
   "metadata": {},
   "outputs": [],
   "source": []
  }
 ],
 "metadata": {
  "kernelspec": {
   "display_name": "Python 3 (ipykernel)",
   "language": "python",
   "name": "python3"
  },
  "language_info": {
   "codemirror_mode": {
    "name": "ipython",
    "version": 3
   },
   "file_extension": ".py",
   "mimetype": "text/x-python",
   "name": "python",
   "nbconvert_exporter": "python",
   "pygments_lexer": "ipython3",
   "version": "3.11.4"
  }
 },
 "nbformat": 4,
 "nbformat_minor": 4
}
