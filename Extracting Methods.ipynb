{
 "cells": [
  {
   "cell_type": "code",
   "execution_count": 1,
   "id": "57e349eb-5871-43d8-b909-5dc0381d7acd",
   "metadata": {},
   "outputs": [],
   "source": [
    "import pandas as pd"
   ]
  },
  {
   "cell_type": "code",
   "execution_count": 2,
   "id": "f190b333-d420-4f47-83cb-6e9d3cda5c57",
   "metadata": {},
   "outputs": [],
   "source": [
    "df = pd.read_csv('data/collection_with_abstracts.csv')"
   ]
  },
  {
   "cell_type": "code",
   "execution_count": 3,
   "id": "e5e41774-e64d-4ee5-b832-838171e111c9",
   "metadata": {},
   "outputs": [],
   "source": [
    "df['Abstract'] = df['Abstract'].fillna('')\n",
    "df['text_data'] = df.apply(lambda row: row['Title'] + '\\n\\n' + row['Abstract'], axis=1)"
   ]
  },
  {
   "cell_type": "code",
   "execution_count": 4,
   "id": "0e8ccef6-64bd-4622-9a3a-4b9d41c5c38b",
   "metadata": {
    "scrolled": true
   },
   "outputs": [
    {
     "data": {
      "text/html": [
       "<div>\n",
       "<style scoped>\n",
       "    .dataframe tbody tr th:only-of-type {\n",
       "        vertical-align: middle;\n",
       "    }\n",
       "\n",
       "    .dataframe tbody tr th {\n",
       "        vertical-align: top;\n",
       "    }\n",
       "\n",
       "    .dataframe thead th {\n",
       "        text-align: right;\n",
       "    }\n",
       "</style>\n",
       "<table border=\"1\" class=\"dataframe\">\n",
       "  <thead>\n",
       "    <tr style=\"text-align: right;\">\n",
       "      <th></th>\n",
       "      <th>PMID</th>\n",
       "      <th>Title</th>\n",
       "      <th>Authors</th>\n",
       "      <th>Citation</th>\n",
       "      <th>First Author</th>\n",
       "      <th>Journal/Book</th>\n",
       "      <th>Publication Year</th>\n",
       "      <th>Create Date</th>\n",
       "      <th>PMCID</th>\n",
       "      <th>NIHMS ID</th>\n",
       "      <th>DOI</th>\n",
       "      <th>Abstract</th>\n",
       "      <th>text_data</th>\n",
       "    </tr>\n",
       "  </thead>\n",
       "  <tbody>\n",
       "    <tr>\n",
       "      <th>0</th>\n",
       "      <td>39435445</td>\n",
       "      <td>Editorial: The operationalization of cognitive...</td>\n",
       "      <td>Winter M, Probst T, Tallon M, Schobel J, Pryss R.</td>\n",
       "      <td>Front Neurosci. 2024 Oct 7;18:1501636. doi: 10...</td>\n",
       "      <td>Winter M</td>\n",
       "      <td>Front Neurosci</td>\n",
       "      <td>2024</td>\n",
       "      <td>2024/10/22</td>\n",
       "      <td>PMC11491427</td>\n",
       "      <td>NaN</td>\n",
       "      <td>10.3389/fnins.2024.1501636</td>\n",
       "      <td></td>\n",
       "      <td>Editorial: The operationalization of cognitive...</td>\n",
       "    </tr>\n",
       "    <tr>\n",
       "      <th>1</th>\n",
       "      <td>39398866</td>\n",
       "      <td>Characterization of arteriosclerosis based on ...</td>\n",
       "      <td>Zhou J, Li X, Demeke D, Dinh TA, Yang Y, Janow...</td>\n",
       "      <td>J Med Imaging (Bellingham). 2024 Sep;11(5):057...</td>\n",
       "      <td>Zhou J</td>\n",
       "      <td>J Med Imaging (Bellingham)</td>\n",
       "      <td>2024</td>\n",
       "      <td>2024/10/14</td>\n",
       "      <td>PMC11466048</td>\n",
       "      <td>NaN</td>\n",
       "      <td>10.1117/1.JMI.11.5.057501</td>\n",
       "      <td>PURPOSE: Our purpose is to develop a computer ...</td>\n",
       "      <td>Characterization of arteriosclerosis based on ...</td>\n",
       "    </tr>\n",
       "    <tr>\n",
       "      <th>2</th>\n",
       "      <td>39390053</td>\n",
       "      <td>Multi-scale input layers and dense decoder agg...</td>\n",
       "      <td>Lan X, Jin W.</td>\n",
       "      <td>Sci Rep. 2024 Oct 10;14(1):23729. doi: 10.1038...</td>\n",
       "      <td>Lan X</td>\n",
       "      <td>Sci Rep</td>\n",
       "      <td>2024</td>\n",
       "      <td>2024/10/10</td>\n",
       "      <td>PMC11467340</td>\n",
       "      <td>NaN</td>\n",
       "      <td>10.1038/s41598-024-74701-0</td>\n",
       "      <td>Accurate segmentation of COVID-19 lesions from...</td>\n",
       "      <td>Multi-scale input layers and dense decoder agg...</td>\n",
       "    </tr>\n",
       "    <tr>\n",
       "      <th>3</th>\n",
       "      <td>39367648</td>\n",
       "      <td>An initial game-theoretic assessment of enhanc...</td>\n",
       "      <td>Fatemi MY, Lu Y, Diallo AB, Srinivasan G, Azhe...</td>\n",
       "      <td>Brief Bioinform. 2024 Sep 23;25(6):bbae476. do...</td>\n",
       "      <td>Fatemi MY</td>\n",
       "      <td>Brief Bioinform</td>\n",
       "      <td>2024</td>\n",
       "      <td>2024/10/05</td>\n",
       "      <td>PMC11452536</td>\n",
       "      <td>NaN</td>\n",
       "      <td>10.1093/bib/bbae476</td>\n",
       "      <td>The application of deep learning to spatial tr...</td>\n",
       "      <td>An initial game-theoretic assessment of enhanc...</td>\n",
       "    </tr>\n",
       "    <tr>\n",
       "      <th>4</th>\n",
       "      <td>39363262</td>\n",
       "      <td>Truncated M13 phage for smart detection of E. ...</td>\n",
       "      <td>Yuan J, Zhu H, Li S, Thierry B, Yang CT, Zhang...</td>\n",
       "      <td>J Nanobiotechnology. 2024 Oct 3;22(1):599. doi...</td>\n",
       "      <td>Yuan J</td>\n",
       "      <td>J Nanobiotechnology</td>\n",
       "      <td>2024</td>\n",
       "      <td>2024/10/04</td>\n",
       "      <td>PMC11451008</td>\n",
       "      <td>NaN</td>\n",
       "      <td>10.1186/s12951-024-02881-y</td>\n",
       "      <td>BACKGROUND: The urgent need for affordable and...</td>\n",
       "      <td>Truncated M13 phage for smart detection of E. ...</td>\n",
       "    </tr>\n",
       "  </tbody>\n",
       "</table>\n",
       "</div>"
      ],
      "text/plain": [
       "       PMID                                              Title  \\\n",
       "0  39435445  Editorial: The operationalization of cognitive...   \n",
       "1  39398866  Characterization of arteriosclerosis based on ...   \n",
       "2  39390053  Multi-scale input layers and dense decoder agg...   \n",
       "3  39367648  An initial game-theoretic assessment of enhanc...   \n",
       "4  39363262  Truncated M13 phage for smart detection of E. ...   \n",
       "\n",
       "                                             Authors  \\\n",
       "0  Winter M, Probst T, Tallon M, Schobel J, Pryss R.   \n",
       "1  Zhou J, Li X, Demeke D, Dinh TA, Yang Y, Janow...   \n",
       "2                                      Lan X, Jin W.   \n",
       "3  Fatemi MY, Lu Y, Diallo AB, Srinivasan G, Azhe...   \n",
       "4  Yuan J, Zhu H, Li S, Thierry B, Yang CT, Zhang...   \n",
       "\n",
       "                                            Citation First Author  \\\n",
       "0  Front Neurosci. 2024 Oct 7;18:1501636. doi: 10...     Winter M   \n",
       "1  J Med Imaging (Bellingham). 2024 Sep;11(5):057...       Zhou J   \n",
       "2  Sci Rep. 2024 Oct 10;14(1):23729. doi: 10.1038...        Lan X   \n",
       "3  Brief Bioinform. 2024 Sep 23;25(6):bbae476. do...    Fatemi MY   \n",
       "4  J Nanobiotechnology. 2024 Oct 3;22(1):599. doi...       Yuan J   \n",
       "\n",
       "                 Journal/Book  Publication Year Create Date        PMCID  \\\n",
       "0              Front Neurosci              2024  2024/10/22  PMC11491427   \n",
       "1  J Med Imaging (Bellingham)              2024  2024/10/14  PMC11466048   \n",
       "2                     Sci Rep              2024  2024/10/10  PMC11467340   \n",
       "3             Brief Bioinform              2024  2024/10/05  PMC11452536   \n",
       "4         J Nanobiotechnology              2024  2024/10/04  PMC11451008   \n",
       "\n",
       "  NIHMS ID                         DOI  \\\n",
       "0      NaN  10.3389/fnins.2024.1501636   \n",
       "1      NaN   10.1117/1.JMI.11.5.057501   \n",
       "2      NaN  10.1038/s41598-024-74701-0   \n",
       "3      NaN         10.1093/bib/bbae476   \n",
       "4      NaN  10.1186/s12951-024-02881-y   \n",
       "\n",
       "                                            Abstract  \\\n",
       "0                                                      \n",
       "1  PURPOSE: Our purpose is to develop a computer ...   \n",
       "2  Accurate segmentation of COVID-19 lesions from...   \n",
       "3  The application of deep learning to spatial tr...   \n",
       "4  BACKGROUND: The urgent need for affordable and...   \n",
       "\n",
       "                                           text_data  \n",
       "0  Editorial: The operationalization of cognitive...  \n",
       "1  Characterization of arteriosclerosis based on ...  \n",
       "2  Multi-scale input layers and dense decoder agg...  \n",
       "3  An initial game-theoretic assessment of enhanc...  \n",
       "4  Truncated M13 phage for smart detection of E. ...  "
      ]
     },
     "execution_count": 4,
     "metadata": {},
     "output_type": "execute_result"
    }
   ],
   "source": [
    "df.head()"
   ]
  },
  {
   "cell_type": "markdown",
   "id": "cad5da25-4bf6-456e-b9b1-a229a53a3ad7",
   "metadata": {},
   "source": [
    "# Extracting Methods from papers"
   ]
  },
  {
   "cell_type": "code",
   "execution_count": 5,
   "id": "97d8b2d1-b6a8-40bb-9f93-9fb6d7a154eb",
   "metadata": {},
   "outputs": [
    {
     "data": {
      "application/vnd.jupyter.widget-view+json": {
       "model_id": "814df95b343c40c094424034a8e57fd3",
       "version_major": 2,
       "version_minor": 0
      },
      "text/plain": [
       "config.json:   0%|          | 0.00/571 [00:00<?, ?B/s]"
      ]
     },
     "metadata": {},
     "output_type": "display_data"
    },
    {
     "data": {
      "application/vnd.jupyter.widget-view+json": {
       "model_id": "80b2f6f208a644e18a21c7fa7b76187a",
       "version_major": 2,
       "version_minor": 0
      },
      "text/plain": [
       "model.safetensors:   0%|          | 0.00/496M [00:00<?, ?B/s]"
      ]
     },
     "metadata": {},
     "output_type": "display_data"
    },
    {
     "data": {
      "application/vnd.jupyter.widget-view+json": {
       "model_id": "37bebff1d6f64e008c0e559085a413fd",
       "version_major": 2,
       "version_minor": 0
      },
      "text/plain": [
       "tokenizer_config.json:   0%|          | 0.00/79.0 [00:00<?, ?B/s]"
      ]
     },
     "metadata": {},
     "output_type": "display_data"
    },
    {
     "data": {
      "application/vnd.jupyter.widget-view+json": {
       "model_id": "3850c626bf344fa3ac1be63dbb84b1df",
       "version_major": 2,
       "version_minor": 0
      },
      "text/plain": [
       "vocab.json:   0%|          | 0.00/899k [00:00<?, ?B/s]"
      ]
     },
     "metadata": {},
     "output_type": "display_data"
    },
    {
     "data": {
      "application/vnd.jupyter.widget-view+json": {
       "model_id": "95b23b7f0ab9473486b4ecc0e0eb5dc0",
       "version_major": 2,
       "version_minor": 0
      },
      "text/plain": [
       "merges.txt:   0%|          | 0.00/456k [00:00<?, ?B/s]"
      ]
     },
     "metadata": {},
     "output_type": "display_data"
    },
    {
     "data": {
      "application/vnd.jupyter.widget-view+json": {
       "model_id": "ce5457999f5044ac808a0b8ad515e7b1",
       "version_major": 2,
       "version_minor": 0
      },
      "text/plain": [
       "special_tokens_map.json:   0%|          | 0.00/772 [00:00<?, ?B/s]"
      ]
     },
     "metadata": {},
     "output_type": "display_data"
    }
   ],
   "source": [
    "from transformers import pipeline\n",
    "\n",
    "qa_model = pipeline(\"question-answering\", model=\"deepset/roberta-base-squad2\", device=0)"
   ]
  },
  {
   "cell_type": "code",
   "execution_count": 6,
   "id": "c843bfdb-2655-44fd-956b-5db767a34ecb",
   "metadata": {},
   "outputs": [],
   "source": [
    "def get_method(question, paragraph):\n",
    "    result = qa_model(question=question, context=paragraph)\n",
    "    return result[\"answer\"]"
   ]
  },
  {
   "cell_type": "code",
   "execution_count": 7,
   "id": "6bc317e1-0d6f-427e-b985-a4286f45c589",
   "metadata": {},
   "outputs": [],
   "source": [
    "question = \"What method is used in this research paper?\""
   ]
  },
  {
   "cell_type": "code",
   "execution_count": 9,
   "id": "d6868cf1-1cf1-4300-b246-b0e64ae18fe3",
   "metadata": {},
   "outputs": [
    {
     "name": "stderr",
     "output_type": "stream",
     "text": [
      "You seem to be using the pipelines sequentially on GPU. In order to maximize efficiency please use a dataset\n"
     ]
    }
   ],
   "source": [
    "df['method']  = df['text_data'].apply(lambda text: get_method(question, text))"
   ]
  },
  {
   "cell_type": "code",
   "execution_count": 10,
   "id": "29cfe62f-bc0b-48e6-aaa8-442c005ba8e8",
   "metadata": {},
   "outputs": [],
   "source": [
    "df.to_csv('results/papers_with_methods_extracted.csv', index=False)"
   ]
  },
  {
   "cell_type": "code",
   "execution_count": null,
   "id": "7aa792fc-fd64-4749-822f-fcf4f5e41b08",
   "metadata": {},
   "outputs": [],
   "source": []
  }
 ],
 "metadata": {
  "kernelspec": {
   "display_name": "Python 3 (ipykernel)",
   "language": "python",
   "name": "python3"
  },
  "language_info": {
   "codemirror_mode": {
    "name": "ipython",
    "version": 3
   },
   "file_extension": ".py",
   "mimetype": "text/x-python",
   "name": "python",
   "nbconvert_exporter": "python",
   "pygments_lexer": "ipython3",
   "version": "3.11.4"
  }
 },
 "nbformat": 4,
 "nbformat_minor": 5
}
