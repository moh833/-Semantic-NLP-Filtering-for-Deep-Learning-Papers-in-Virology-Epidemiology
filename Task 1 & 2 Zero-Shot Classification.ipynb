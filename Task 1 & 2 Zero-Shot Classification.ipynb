{
 "cells": [
  {
   "cell_type": "code",
   "execution_count": 3,
   "id": "59ebf7f2-00fd-409b-9d0a-d852ae0188a7",
   "metadata": {},
   "outputs": [
    {
     "data": {
      "application/vnd.jupyter.widget-view+json": {
       "model_id": "cea5ff6c290740edb6a7b2d8c6572cab",
       "version_major": 2,
       "version_minor": 0
      },
      "text/plain": [
       "config.json:   0%|          | 0.00/1.09k [00:00<?, ?B/s]"
      ]
     },
     "metadata": {},
     "output_type": "display_data"
    },
    {
     "data": {
      "application/vnd.jupyter.widget-view+json": {
       "model_id": "3217f5c29b1e40fb9f8faa20003ac386",
       "version_major": 2,
       "version_minor": 0
      },
      "text/plain": [
       "model.safetensors:   0%|          | 0.00/369M [00:00<?, ?B/s]"
      ]
     },
     "metadata": {},
     "output_type": "display_data"
    },
    {
     "data": {
      "application/vnd.jupyter.widget-view+json": {
       "model_id": "5051215283d44d7e9b0601a19fe129d6",
       "version_major": 2,
       "version_minor": 0
      },
      "text/plain": [
       "tokenizer_config.json:   0%|          | 0.00/1.28k [00:00<?, ?B/s]"
      ]
     },
     "metadata": {},
     "output_type": "display_data"
    },
    {
     "data": {
      "application/vnd.jupyter.widget-view+json": {
       "model_id": "73bf292adb37480eaf7f58b66ef47e86",
       "version_major": 2,
       "version_minor": 0
      },
      "text/plain": [
       "spm.model:   0%|          | 0.00/2.46M [00:00<?, ?B/s]"
      ]
     },
     "metadata": {},
     "output_type": "display_data"
    },
    {
     "data": {
      "application/vnd.jupyter.widget-view+json": {
       "model_id": "ce7723fee78044dba3d28821cc70e3f7",
       "version_major": 2,
       "version_minor": 0
      },
      "text/plain": [
       "tokenizer.json:   0%|          | 0.00/8.66M [00:00<?, ?B/s]"
      ]
     },
     "metadata": {},
     "output_type": "display_data"
    },
    {
     "data": {
      "application/vnd.jupyter.widget-view+json": {
       "model_id": "e623d3973b3b4c0db8020b5d232e48a1",
       "version_major": 2,
       "version_minor": 0
      },
      "text/plain": [
       "added_tokens.json:   0%|          | 0.00/23.0 [00:00<?, ?B/s]"
      ]
     },
     "metadata": {},
     "output_type": "display_data"
    },
    {
     "data": {
      "application/vnd.jupyter.widget-view+json": {
       "model_id": "cb7616793dbe40659a6863c2f1161d1f",
       "version_major": 2,
       "version_minor": 0
      },
      "text/plain": [
       "special_tokens_map.json:   0%|          | 0.00/286 [00:00<?, ?B/s]"
      ]
     },
     "metadata": {},
     "output_type": "display_data"
    }
   ],
   "source": [
    "from transformers import pipeline\n",
    "classifier = pipeline(\"zero-shot-classification\", model=\"MoritzLaurer/DeBERTa-v3-base-mnli-fever-anli\", device=0)"
   ]
  },
  {
   "cell_type": "markdown",
   "id": "20155e2f-92d9-40a8-a161-f3ad2780b75d",
   "metadata": {},
   "source": [
    "# Prepare Data"
   ]
  },
  {
   "cell_type": "code",
   "execution_count": 7,
   "id": "b100932f-2189-431c-b0e1-3576bd1730c6",
   "metadata": {},
   "outputs": [],
   "source": [
    "import pandas as pd"
   ]
  },
  {
   "cell_type": "code",
   "execution_count": 9,
   "id": "2ac5b22e-6492-49b9-8187-3c59e46198a4",
   "metadata": {},
   "outputs": [],
   "source": [
    "df = pd.read_csv('data/collection_with_abstracts.csv')"
   ]
  },
  {
   "cell_type": "code",
   "execution_count": 10,
   "id": "80f8d2f2-e8ba-4cdb-bf32-4a531cb4c881",
   "metadata": {},
   "outputs": [],
   "source": [
    "df['Abstract'] = df['Abstract'].fillna('')\n",
    "df['text_data'] = df.apply(lambda row: row['Title'] + '\\n\\n' + row['Abstract'], axis=1)"
   ]
  },
  {
   "cell_type": "markdown",
   "id": "ada3f5ae-d235-49d1-8006-f7894ce70005",
   "metadata": {},
   "source": [
    "# Task 1: Filtering out irrelevant papers"
   ]
  },
  {
   "cell_type": "code",
   "execution_count": 11,
   "id": "4175b7f7-0dd5-49ee-8676-d8caa73896ea",
   "metadata": {},
   "outputs": [],
   "source": [
    "title_abstract_list = df[['PMID', 'text_data']].values.tolist()"
   ]
  },
  {
   "cell_type": "code",
   "execution_count": 12,
   "id": "6889c0ba-df87-4a2d-bd14-346c38e29da8",
   "metadata": {},
   "outputs": [
    {
     "data": {
      "text/plain": [
       "[39435445,\n",
       " 'Editorial: The operationalization of cognitive systems in the comprehension of visual structures\\n\\n']"
      ]
     },
     "execution_count": 12,
     "metadata": {},
     "output_type": "execute_result"
    }
   ],
   "source": [
    "title_abstract_list[0]"
   ]
  },
  {
   "cell_type": "code",
   "execution_count": 19,
   "id": "00dca661-4115-46d4-9a84-ff58ade74ef7",
   "metadata": {},
   "outputs": [],
   "source": [
    "def classify_papers(title_abstract_list, candidate_labels):\n",
    "    papers_classification = []\n",
    "    for PMID, title_abstract in title_abstract_list:\n",
    "        output = classifier(title_abstract, candidate_labels, multi_label=True)\n",
    "        data = {'PMID': PMID, 'title_abstract': title_abstract, output['labels'][0]: output['scores'][0], output['labels'][1]: output['scores'][1]}\n",
    "        papers_classification.append(data)\n",
    "    return papers_classification"
   ]
  },
  {
   "cell_type": "code",
   "execution_count": 20,
   "id": "3f2cca50-3a26-4b3d-8914-d7a2017fd249",
   "metadata": {},
   "outputs": [],
   "source": [
    "candidate_labels = [\"deep learning in virology\", \"deep learning in epidemiology\"]\n",
    "papers_classification = classify_papers(title_abstract_list, candidate_labels)"
   ]
  },
  {
   "cell_type": "code",
   "execution_count": 22,
   "id": "720139d5-2ec0-458f-9ea3-0c29b11a4ece",
   "metadata": {},
   "outputs": [],
   "source": [
    "import pickle\n",
    "\n",
    "with open(\"embeddings/papers_classification.pkl\", \"wb\") as file:\n",
    "    pickle.dump(papers_classification, file)\n"
   ]
  },
  {
   "cell_type": "code",
   "execution_count": 23,
   "id": "9016d500-d0fa-4ac3-9ae7-30f1fda0c4fb",
   "metadata": {},
   "outputs": [],
   "source": [
    "relevant_papers = [p for p in papers_classification if (p['deep learning in epidemiology'] >= 0.5 or p['deep learning in virology'] >= 0.5) ]"
   ]
  },
  {
   "cell_type": "code",
   "execution_count": 24,
   "id": "7b1a039e-3c40-4abc-9fdc-ac59ad982d08",
   "metadata": {},
   "outputs": [
    {
     "data": {
      "text/plain": [
       "5832"
      ]
     },
     "execution_count": 24,
     "metadata": {},
     "output_type": "execute_result"
    }
   ],
   "source": [
    "len(relevant_papers)"
   ]
  },
  {
   "cell_type": "code",
   "execution_count": 35,
   "id": "2307b9bb",
   "metadata": {},
   "outputs": [],
   "source": [
    "filtered_df = pd.DataFrame(relevant_papers)"
   ]
  },
  {
   "cell_type": "code",
   "execution_count": 36,
   "id": "a4fad9de",
   "metadata": {},
   "outputs": [
    {
     "data": {
      "text/html": [
       "<div>\n",
       "<style scoped>\n",
       "    .dataframe tbody tr th:only-of-type {\n",
       "        vertical-align: middle;\n",
       "    }\n",
       "\n",
       "    .dataframe tbody tr th {\n",
       "        vertical-align: top;\n",
       "    }\n",
       "\n",
       "    .dataframe thead th {\n",
       "        text-align: right;\n",
       "    }\n",
       "</style>\n",
       "<table border=\"1\" class=\"dataframe\">\n",
       "  <thead>\n",
       "    <tr style=\"text-align: right;\">\n",
       "      <th></th>\n",
       "      <th>PMID</th>\n",
       "      <th>title_abstract</th>\n",
       "      <th>deep learning in virology</th>\n",
       "      <th>deep learning in epidemiology</th>\n",
       "    </tr>\n",
       "  </thead>\n",
       "  <tbody>\n",
       "    <tr>\n",
       "      <th>0</th>\n",
       "      <td>39390053</td>\n",
       "      <td>Multi-scale input layers and dense decoder agg...</td>\n",
       "      <td>0.952872</td>\n",
       "      <td>0.938716</td>\n",
       "    </tr>\n",
       "    <tr>\n",
       "      <th>1</th>\n",
       "      <td>39363262</td>\n",
       "      <td>Truncated M13 phage for smart detection of E. ...</td>\n",
       "      <td>0.946782</td>\n",
       "      <td>0.882754</td>\n",
       "    </tr>\n",
       "    <tr>\n",
       "      <th>2</th>\n",
       "      <td>39287522</td>\n",
       "      <td>AI for Multistructure Incidental Findings and ...</td>\n",
       "      <td>0.175686</td>\n",
       "      <td>0.716531</td>\n",
       "    </tr>\n",
       "    <tr>\n",
       "      <th>3</th>\n",
       "      <td>39273393</td>\n",
       "      <td>Digital Whole Slide Image Analysis of Elevated...</td>\n",
       "      <td>0.213716</td>\n",
       "      <td>0.538159</td>\n",
       "    </tr>\n",
       "    <tr>\n",
       "      <th>4</th>\n",
       "      <td>39269702</td>\n",
       "      <td>Health Warnings on Instagram Advertisements fo...</td>\n",
       "      <td>0.855169</td>\n",
       "      <td>0.902817</td>\n",
       "    </tr>\n",
       "  </tbody>\n",
       "</table>\n",
       "</div>"
      ],
      "text/plain": [
       "       PMID                                     title_abstract  \\\n",
       "0  39390053  Multi-scale input layers and dense decoder agg...   \n",
       "1  39363262  Truncated M13 phage for smart detection of E. ...   \n",
       "2  39287522  AI for Multistructure Incidental Findings and ...   \n",
       "3  39273393  Digital Whole Slide Image Analysis of Elevated...   \n",
       "4  39269702  Health Warnings on Instagram Advertisements fo...   \n",
       "\n",
       "   deep learning in virology  deep learning in epidemiology  \n",
       "0                   0.952872                       0.938716  \n",
       "1                   0.946782                       0.882754  \n",
       "2                   0.175686                       0.716531  \n",
       "3                   0.213716                       0.538159  \n",
       "4                   0.855169                       0.902817  "
      ]
     },
     "execution_count": 36,
     "metadata": {},
     "output_type": "execute_result"
    }
   ],
   "source": [
    "filtered_df.head()"
   ]
  },
  {
   "cell_type": "markdown",
   "id": "e2a9d344-f787-4a17-9be9-b3a018adba4f",
   "metadata": {},
   "source": [
    "# Task 2: Classify relevant papers"
   ]
  },
  {
   "cell_type": "code",
   "execution_count": 37,
   "id": "090f25d8",
   "metadata": {},
   "outputs": [],
   "source": [
    "filtered_df = pd.merge(df, filtered_df[['PMID', 'deep learning in virology', 'deep learning in epidemiology']], on='PMID', how='inner')"
   ]
  },
  {
   "cell_type": "code",
   "execution_count": 38,
   "id": "5ac5dd51",
   "metadata": {},
   "outputs": [
    {
     "data": {
      "text/html": [
       "<div>\n",
       "<style scoped>\n",
       "    .dataframe tbody tr th:only-of-type {\n",
       "        vertical-align: middle;\n",
       "    }\n",
       "\n",
       "    .dataframe tbody tr th {\n",
       "        vertical-align: top;\n",
       "    }\n",
       "\n",
       "    .dataframe thead th {\n",
       "        text-align: right;\n",
       "    }\n",
       "</style>\n",
       "<table border=\"1\" class=\"dataframe\">\n",
       "  <thead>\n",
       "    <tr style=\"text-align: right;\">\n",
       "      <th></th>\n",
       "      <th>PMID</th>\n",
       "      <th>Title</th>\n",
       "      <th>Authors</th>\n",
       "      <th>Citation</th>\n",
       "      <th>First Author</th>\n",
       "      <th>Journal/Book</th>\n",
       "      <th>Publication Year</th>\n",
       "      <th>Create Date</th>\n",
       "      <th>PMCID</th>\n",
       "      <th>NIHMS ID</th>\n",
       "      <th>DOI</th>\n",
       "      <th>Abstract</th>\n",
       "      <th>text_data</th>\n",
       "      <th>deep learning in virology</th>\n",
       "      <th>deep learning in epidemiology</th>\n",
       "    </tr>\n",
       "  </thead>\n",
       "  <tbody>\n",
       "    <tr>\n",
       "      <th>0</th>\n",
       "      <td>39390053</td>\n",
       "      <td>Multi-scale input layers and dense decoder agg...</td>\n",
       "      <td>Lan X, Jin W.</td>\n",
       "      <td>Sci Rep. 2024 Oct 10;14(1):23729. doi: 10.1038...</td>\n",
       "      <td>Lan X</td>\n",
       "      <td>Sci Rep</td>\n",
       "      <td>2024</td>\n",
       "      <td>2024/10/10</td>\n",
       "      <td>PMC11467340</td>\n",
       "      <td>NaN</td>\n",
       "      <td>10.1038/s41598-024-74701-0</td>\n",
       "      <td>Accurate segmentation of COVID-19 lesions from...</td>\n",
       "      <td>Multi-scale input layers and dense decoder agg...</td>\n",
       "      <td>0.952872</td>\n",
       "      <td>0.938716</td>\n",
       "    </tr>\n",
       "    <tr>\n",
       "      <th>1</th>\n",
       "      <td>39363262</td>\n",
       "      <td>Truncated M13 phage for smart detection of E. ...</td>\n",
       "      <td>Yuan J, Zhu H, Li S, Thierry B, Yang CT, Zhang...</td>\n",
       "      <td>J Nanobiotechnology. 2024 Oct 3;22(1):599. doi...</td>\n",
       "      <td>Yuan J</td>\n",
       "      <td>J Nanobiotechnology</td>\n",
       "      <td>2024</td>\n",
       "      <td>2024/10/04</td>\n",
       "      <td>PMC11451008</td>\n",
       "      <td>NaN</td>\n",
       "      <td>10.1186/s12951-024-02881-y</td>\n",
       "      <td>BACKGROUND: The urgent need for affordable and...</td>\n",
       "      <td>Truncated M13 phage for smart detection of E. ...</td>\n",
       "      <td>0.946782</td>\n",
       "      <td>0.882754</td>\n",
       "    </tr>\n",
       "    <tr>\n",
       "      <th>2</th>\n",
       "      <td>39287522</td>\n",
       "      <td>AI for Multistructure Incidental Findings and ...</td>\n",
       "      <td>Marcinkiewicz AM, Buchwald M, Shanbhag A, Bedn...</td>\n",
       "      <td>Radiology. 2024 Sep;312(3):e240541. doi: 10.11...</td>\n",
       "      <td>Marcinkiewicz AM</td>\n",
       "      <td>Radiology</td>\n",
       "      <td>2024</td>\n",
       "      <td>2024/09/17</td>\n",
       "      <td>PMC11427857</td>\n",
       "      <td>NaN</td>\n",
       "      <td>10.1148/radiol.240541</td>\n",
       "      <td>Background Incidental extrapulmonary findings ...</td>\n",
       "      <td>AI for Multistructure Incidental Findings and ...</td>\n",
       "      <td>0.175686</td>\n",
       "      <td>0.716531</td>\n",
       "    </tr>\n",
       "    <tr>\n",
       "      <th>3</th>\n",
       "      <td>39273393</td>\n",
       "      <td>Digital Whole Slide Image Analysis of Elevated...</td>\n",
       "      <td>Karancsi Z, Gregus B, Krenács T, Cserni G, Nag...</td>\n",
       "      <td>Int J Mol Sci. 2024 Aug 30;25(17):9445. doi: 1...</td>\n",
       "      <td>Karancsi Z</td>\n",
       "      <td>Int J Mol Sci</td>\n",
       "      <td>2024</td>\n",
       "      <td>2024/09/14</td>\n",
       "      <td>PMC11394775</td>\n",
       "      <td>NaN</td>\n",
       "      <td>10.3390/ijms25179445</td>\n",
       "      <td>Triple-negative breast cancer (TNBC) is a subt...</td>\n",
       "      <td>Digital Whole Slide Image Analysis of Elevated...</td>\n",
       "      <td>0.213716</td>\n",
       "      <td>0.538159</td>\n",
       "    </tr>\n",
       "    <tr>\n",
       "      <th>4</th>\n",
       "      <td>39269702</td>\n",
       "      <td>Health Warnings on Instagram Advertisements fo...</td>\n",
       "      <td>Wu J, Trifiro BM, Ranker LR, Origgi JM, Benjam...</td>\n",
       "      <td>JAMA Netw Open. 2024 Sep 3;7(9):e2434434. doi:...</td>\n",
       "      <td>Wu J</td>\n",
       "      <td>JAMA Netw Open</td>\n",
       "      <td>2024</td>\n",
       "      <td>2024/09/13</td>\n",
       "      <td>PMC11400217</td>\n",
       "      <td>NaN</td>\n",
       "      <td>10.1001/jamanetworkopen.2024.34434</td>\n",
       "      <td>IMPORTANCE: Synthetic nicotine is increasingly...</td>\n",
       "      <td>Health Warnings on Instagram Advertisements fo...</td>\n",
       "      <td>0.855169</td>\n",
       "      <td>0.902817</td>\n",
       "    </tr>\n",
       "  </tbody>\n",
       "</table>\n",
       "</div>"
      ],
      "text/plain": [
       "       PMID                                              Title  \\\n",
       "0  39390053  Multi-scale input layers and dense decoder agg...   \n",
       "1  39363262  Truncated M13 phage for smart detection of E. ...   \n",
       "2  39287522  AI for Multistructure Incidental Findings and ...   \n",
       "3  39273393  Digital Whole Slide Image Analysis of Elevated...   \n",
       "4  39269702  Health Warnings on Instagram Advertisements fo...   \n",
       "\n",
       "                                             Authors  \\\n",
       "0                                      Lan X, Jin W.   \n",
       "1  Yuan J, Zhu H, Li S, Thierry B, Yang CT, Zhang...   \n",
       "2  Marcinkiewicz AM, Buchwald M, Shanbhag A, Bedn...   \n",
       "3  Karancsi Z, Gregus B, Krenács T, Cserni G, Nag...   \n",
       "4  Wu J, Trifiro BM, Ranker LR, Origgi JM, Benjam...   \n",
       "\n",
       "                                            Citation      First Author  \\\n",
       "0  Sci Rep. 2024 Oct 10;14(1):23729. doi: 10.1038...             Lan X   \n",
       "1  J Nanobiotechnology. 2024 Oct 3;22(1):599. doi...            Yuan J   \n",
       "2  Radiology. 2024 Sep;312(3):e240541. doi: 10.11...  Marcinkiewicz AM   \n",
       "3  Int J Mol Sci. 2024 Aug 30;25(17):9445. doi: 1...        Karancsi Z   \n",
       "4  JAMA Netw Open. 2024 Sep 3;7(9):e2434434. doi:...              Wu J   \n",
       "\n",
       "          Journal/Book  Publication Year Create Date        PMCID NIHMS ID  \\\n",
       "0              Sci Rep              2024  2024/10/10  PMC11467340      NaN   \n",
       "1  J Nanobiotechnology              2024  2024/10/04  PMC11451008      NaN   \n",
       "2            Radiology              2024  2024/09/17  PMC11427857      NaN   \n",
       "3        Int J Mol Sci              2024  2024/09/14  PMC11394775      NaN   \n",
       "4       JAMA Netw Open              2024  2024/09/13  PMC11400217      NaN   \n",
       "\n",
       "                                  DOI  \\\n",
       "0          10.1038/s41598-024-74701-0   \n",
       "1          10.1186/s12951-024-02881-y   \n",
       "2               10.1148/radiol.240541   \n",
       "3                10.3390/ijms25179445   \n",
       "4  10.1001/jamanetworkopen.2024.34434   \n",
       "\n",
       "                                            Abstract  \\\n",
       "0  Accurate segmentation of COVID-19 lesions from...   \n",
       "1  BACKGROUND: The urgent need for affordable and...   \n",
       "2  Background Incidental extrapulmonary findings ...   \n",
       "3  Triple-negative breast cancer (TNBC) is a subt...   \n",
       "4  IMPORTANCE: Synthetic nicotine is increasingly...   \n",
       "\n",
       "                                           text_data  \\\n",
       "0  Multi-scale input layers and dense decoder agg...   \n",
       "1  Truncated M13 phage for smart detection of E. ...   \n",
       "2  AI for Multistructure Incidental Findings and ...   \n",
       "3  Digital Whole Slide Image Analysis of Elevated...   \n",
       "4  Health Warnings on Instagram Advertisements fo...   \n",
       "\n",
       "   deep learning in virology  deep learning in epidemiology  \n",
       "0                   0.952872                       0.938716  \n",
       "1                   0.946782                       0.882754  \n",
       "2                   0.175686                       0.716531  \n",
       "3                   0.213716                       0.538159  \n",
       "4                   0.855169                       0.902817  "
      ]
     },
     "execution_count": 38,
     "metadata": {},
     "output_type": "execute_result"
    }
   ],
   "source": [
    "filtered_df.head()"
   ]
  },
  {
   "cell_type": "code",
   "execution_count": 39,
   "id": "30e4c3b0-3064-43d2-92a9-9923c67e25a1",
   "metadata": {},
   "outputs": [],
   "source": [
    "title_abstract_list = filtered_df[['PMID', 'text_data']].values.tolist()"
   ]
  },
  {
   "cell_type": "code",
   "execution_count": 40,
   "id": "2724ef49-fef6-4607-a151-9efe4a585560",
   "metadata": {},
   "outputs": [],
   "source": [
    "candidate_labels = [\"computer vision\", \"text mining\"]\n",
    "papers_classification = classify_papers(title_abstract_list, candidate_labels)"
   ]
  },
  {
   "cell_type": "code",
   "execution_count": 41,
   "id": "81558707-4579-4215-b463-75fb187a050c",
   "metadata": {},
   "outputs": [],
   "source": [
    "def label_paragraphs(papers_classification, threshold=0.5):\n",
    "    for paper in papers_classification:\n",
    "        label = 'other'\n",
    "        if paper['computer vision'] >= threshold and paper['text mining'] >= threshold:\n",
    "            label = 'both'\n",
    "        elif paper['computer vision'] >= threshold:\n",
    "            label = 'computer vision'\n",
    "        elif paper['text mining'] >= threshold:\n",
    "            label = 'text mining'\n",
    "        # else:\n",
    "        #     label = 'other'\n",
    "        paper['label'] = label"
   ]
  },
  {
   "cell_type": "code",
   "execution_count": 42,
   "id": "77d4d7d1-50ec-4418-9f2e-2f7abde2c7a9",
   "metadata": {},
   "outputs": [],
   "source": [
    "label_paragraphs(papers_classification, threshold=0.5)"
   ]
  },
  {
   "cell_type": "code",
   "execution_count": 44,
   "id": "54d073cf",
   "metadata": {},
   "outputs": [
    {
     "data": {
      "text/plain": [
       "{'PMID': 39273393,\n",
       " 'title_abstract': 'Digital Whole Slide Image Analysis of Elevated Stromal Content and Extracellular Matrix Protein Expression Predicts Adverse Prognosis in Triple-Negative Breast Cancer\\n\\nTriple-negative breast cancer (TNBC) is a subtype of breast cancer with a poor prognosis and limited treatment options. This study evaluates the prognostic value of stromal markers in TNBC, focusing on the tumor-stroma ratio (TSR) and overall stroma ratio (OSR) in whole slide images (WSI), as well as the expression of type-I collagen, type-III collagen, and fibrillin-1 on tissue microarrays (TMAs), using both visual assessment and digital image analysis (DIA). A total of 101 female TNBC patients, primarily treated with surgery between 2005 and 2016, were included. We found that high visual OSR correlates with worse overall survival (OS), advanced pN categories, lower stromal tumor-infiltrating lymphocyte count (sTIL), lower mitotic index, and patient age (p &lt; 0.05). TSR showed significant connections to the pN category and mitotic index (p &lt; 0.01). High expression levels of type-I collagen (&gt;45%), type-III collagen (&gt;30%), and fibrillin-1 (&gt;20%) were linked to significantly worse OS (p = 0.004, p = 0.013, and p = 0.005, respectively) and progression-free survival (PFS) (p = 0.028, p = 0.025, and p = 0.002, respectively), validated at the mRNA level. Our results highlight the importance of stromal characteristics in promoting tumor progression and metastasis and that targeting extracellular matrix (ECM) components may offer novel therapeutic strategies. Furthermore, DIA can be more accurate and objective in evaluating TSR, OSR, and immunodetected stromal markers than traditional visual examination.',\n",
       " 'computer vision': 0.8700684309005737,\n",
       " 'text mining': 0.6026243567466736,\n",
       " 'label': 'both'}"
      ]
     },
     "execution_count": 44,
     "metadata": {},
     "output_type": "execute_result"
    }
   ],
   "source": [
    "papers_classification[3]"
   ]
  },
  {
   "cell_type": "code",
   "execution_count": 45,
   "id": "fe9437a6",
   "metadata": {},
   "outputs": [],
   "source": [
    "classified_df = pd.DataFrame(papers_classification)\n",
    "classified_df = pd.merge(filtered_df, classified_df, on='PMID', how='inner')"
   ]
  },
  {
   "cell_type": "code",
   "execution_count": 46,
   "id": "29061e96",
   "metadata": {},
   "outputs": [
    {
     "data": {
      "text/html": [
       "<div>\n",
       "<style scoped>\n",
       "    .dataframe tbody tr th:only-of-type {\n",
       "        vertical-align: middle;\n",
       "    }\n",
       "\n",
       "    .dataframe tbody tr th {\n",
       "        vertical-align: top;\n",
       "    }\n",
       "\n",
       "    .dataframe thead th {\n",
       "        text-align: right;\n",
       "    }\n",
       "</style>\n",
       "<table border=\"1\" class=\"dataframe\">\n",
       "  <thead>\n",
       "    <tr style=\"text-align: right;\">\n",
       "      <th></th>\n",
       "      <th>PMID</th>\n",
       "      <th>Title</th>\n",
       "      <th>Authors</th>\n",
       "      <th>Citation</th>\n",
       "      <th>First Author</th>\n",
       "      <th>Journal/Book</th>\n",
       "      <th>Publication Year</th>\n",
       "      <th>Create Date</th>\n",
       "      <th>PMCID</th>\n",
       "      <th>NIHMS ID</th>\n",
       "      <th>DOI</th>\n",
       "      <th>Abstract</th>\n",
       "      <th>text_data</th>\n",
       "      <th>deep learning in virology</th>\n",
       "      <th>deep learning in epidemiology</th>\n",
       "      <th>title_abstract</th>\n",
       "      <th>computer vision</th>\n",
       "      <th>text mining</th>\n",
       "      <th>label</th>\n",
       "    </tr>\n",
       "  </thead>\n",
       "  <tbody>\n",
       "    <tr>\n",
       "      <th>0</th>\n",
       "      <td>39390053</td>\n",
       "      <td>Multi-scale input layers and dense decoder agg...</td>\n",
       "      <td>Lan X, Jin W.</td>\n",
       "      <td>Sci Rep. 2024 Oct 10;14(1):23729. doi: 10.1038...</td>\n",
       "      <td>Lan X</td>\n",
       "      <td>Sci Rep</td>\n",
       "      <td>2024</td>\n",
       "      <td>2024/10/10</td>\n",
       "      <td>PMC11467340</td>\n",
       "      <td>NaN</td>\n",
       "      <td>10.1038/s41598-024-74701-0</td>\n",
       "      <td>Accurate segmentation of COVID-19 lesions from...</td>\n",
       "      <td>Multi-scale input layers and dense decoder agg...</td>\n",
       "      <td>0.952872</td>\n",
       "      <td>0.938716</td>\n",
       "      <td>Multi-scale input layers and dense decoder agg...</td>\n",
       "      <td>0.147727</td>\n",
       "      <td>0.043978</td>\n",
       "      <td>other</td>\n",
       "    </tr>\n",
       "    <tr>\n",
       "      <th>1</th>\n",
       "      <td>39363262</td>\n",
       "      <td>Truncated M13 phage for smart detection of E. ...</td>\n",
       "      <td>Yuan J, Zhu H, Li S, Thierry B, Yang CT, Zhang...</td>\n",
       "      <td>J Nanobiotechnology. 2024 Oct 3;22(1):599. doi...</td>\n",
       "      <td>Yuan J</td>\n",
       "      <td>J Nanobiotechnology</td>\n",
       "      <td>2024</td>\n",
       "      <td>2024/10/04</td>\n",
       "      <td>PMC11451008</td>\n",
       "      <td>NaN</td>\n",
       "      <td>10.1186/s12951-024-02881-y</td>\n",
       "      <td>BACKGROUND: The urgent need for affordable and...</td>\n",
       "      <td>Truncated M13 phage for smart detection of E. ...</td>\n",
       "      <td>0.946782</td>\n",
       "      <td>0.882754</td>\n",
       "      <td>Truncated M13 phage for smart detection of E. ...</td>\n",
       "      <td>0.966224</td>\n",
       "      <td>0.478241</td>\n",
       "      <td>computer vision</td>\n",
       "    </tr>\n",
       "    <tr>\n",
       "      <th>2</th>\n",
       "      <td>39287522</td>\n",
       "      <td>AI for Multistructure Incidental Findings and ...</td>\n",
       "      <td>Marcinkiewicz AM, Buchwald M, Shanbhag A, Bedn...</td>\n",
       "      <td>Radiology. 2024 Sep;312(3):e240541. doi: 10.11...</td>\n",
       "      <td>Marcinkiewicz AM</td>\n",
       "      <td>Radiology</td>\n",
       "      <td>2024</td>\n",
       "      <td>2024/09/17</td>\n",
       "      <td>PMC11427857</td>\n",
       "      <td>NaN</td>\n",
       "      <td>10.1148/radiol.240541</td>\n",
       "      <td>Background Incidental extrapulmonary findings ...</td>\n",
       "      <td>AI for Multistructure Incidental Findings and ...</td>\n",
       "      <td>0.175686</td>\n",
       "      <td>0.716531</td>\n",
       "      <td>AI for Multistructure Incidental Findings and ...</td>\n",
       "      <td>0.113535</td>\n",
       "      <td>0.711038</td>\n",
       "      <td>text mining</td>\n",
       "    </tr>\n",
       "    <tr>\n",
       "      <th>3</th>\n",
       "      <td>39273393</td>\n",
       "      <td>Digital Whole Slide Image Analysis of Elevated...</td>\n",
       "      <td>Karancsi Z, Gregus B, Krenács T, Cserni G, Nag...</td>\n",
       "      <td>Int J Mol Sci. 2024 Aug 30;25(17):9445. doi: 1...</td>\n",
       "      <td>Karancsi Z</td>\n",
       "      <td>Int J Mol Sci</td>\n",
       "      <td>2024</td>\n",
       "      <td>2024/09/14</td>\n",
       "      <td>PMC11394775</td>\n",
       "      <td>NaN</td>\n",
       "      <td>10.3390/ijms25179445</td>\n",
       "      <td>Triple-negative breast cancer (TNBC) is a subt...</td>\n",
       "      <td>Digital Whole Slide Image Analysis of Elevated...</td>\n",
       "      <td>0.213716</td>\n",
       "      <td>0.538159</td>\n",
       "      <td>Digital Whole Slide Image Analysis of Elevated...</td>\n",
       "      <td>0.870068</td>\n",
       "      <td>0.602624</td>\n",
       "      <td>both</td>\n",
       "    </tr>\n",
       "    <tr>\n",
       "      <th>4</th>\n",
       "      <td>39269702</td>\n",
       "      <td>Health Warnings on Instagram Advertisements fo...</td>\n",
       "      <td>Wu J, Trifiro BM, Ranker LR, Origgi JM, Benjam...</td>\n",
       "      <td>JAMA Netw Open. 2024 Sep 3;7(9):e2434434. doi:...</td>\n",
       "      <td>Wu J</td>\n",
       "      <td>JAMA Netw Open</td>\n",
       "      <td>2024</td>\n",
       "      <td>2024/09/13</td>\n",
       "      <td>PMC11400217</td>\n",
       "      <td>NaN</td>\n",
       "      <td>10.1001/jamanetworkopen.2024.34434</td>\n",
       "      <td>IMPORTANCE: Synthetic nicotine is increasingly...</td>\n",
       "      <td>Health Warnings on Instagram Advertisements fo...</td>\n",
       "      <td>0.855169</td>\n",
       "      <td>0.902817</td>\n",
       "      <td>Health Warnings on Instagram Advertisements fo...</td>\n",
       "      <td>0.969292</td>\n",
       "      <td>0.889679</td>\n",
       "      <td>both</td>\n",
       "    </tr>\n",
       "  </tbody>\n",
       "</table>\n",
       "</div>"
      ],
      "text/plain": [
       "       PMID                                              Title  \\\n",
       "0  39390053  Multi-scale input layers and dense decoder agg...   \n",
       "1  39363262  Truncated M13 phage for smart detection of E. ...   \n",
       "2  39287522  AI for Multistructure Incidental Findings and ...   \n",
       "3  39273393  Digital Whole Slide Image Analysis of Elevated...   \n",
       "4  39269702  Health Warnings on Instagram Advertisements fo...   \n",
       "\n",
       "                                             Authors  \\\n",
       "0                                      Lan X, Jin W.   \n",
       "1  Yuan J, Zhu H, Li S, Thierry B, Yang CT, Zhang...   \n",
       "2  Marcinkiewicz AM, Buchwald M, Shanbhag A, Bedn...   \n",
       "3  Karancsi Z, Gregus B, Krenács T, Cserni G, Nag...   \n",
       "4  Wu J, Trifiro BM, Ranker LR, Origgi JM, Benjam...   \n",
       "\n",
       "                                            Citation      First Author  \\\n",
       "0  Sci Rep. 2024 Oct 10;14(1):23729. doi: 10.1038...             Lan X   \n",
       "1  J Nanobiotechnology. 2024 Oct 3;22(1):599. doi...            Yuan J   \n",
       "2  Radiology. 2024 Sep;312(3):e240541. doi: 10.11...  Marcinkiewicz AM   \n",
       "3  Int J Mol Sci. 2024 Aug 30;25(17):9445. doi: 1...        Karancsi Z   \n",
       "4  JAMA Netw Open. 2024 Sep 3;7(9):e2434434. doi:...              Wu J   \n",
       "\n",
       "          Journal/Book  Publication Year Create Date        PMCID NIHMS ID  \\\n",
       "0              Sci Rep              2024  2024/10/10  PMC11467340      NaN   \n",
       "1  J Nanobiotechnology              2024  2024/10/04  PMC11451008      NaN   \n",
       "2            Radiology              2024  2024/09/17  PMC11427857      NaN   \n",
       "3        Int J Mol Sci              2024  2024/09/14  PMC11394775      NaN   \n",
       "4       JAMA Netw Open              2024  2024/09/13  PMC11400217      NaN   \n",
       "\n",
       "                                  DOI  \\\n",
       "0          10.1038/s41598-024-74701-0   \n",
       "1          10.1186/s12951-024-02881-y   \n",
       "2               10.1148/radiol.240541   \n",
       "3                10.3390/ijms25179445   \n",
       "4  10.1001/jamanetworkopen.2024.34434   \n",
       "\n",
       "                                            Abstract  \\\n",
       "0  Accurate segmentation of COVID-19 lesions from...   \n",
       "1  BACKGROUND: The urgent need for affordable and...   \n",
       "2  Background Incidental extrapulmonary findings ...   \n",
       "3  Triple-negative breast cancer (TNBC) is a subt...   \n",
       "4  IMPORTANCE: Synthetic nicotine is increasingly...   \n",
       "\n",
       "                                           text_data  \\\n",
       "0  Multi-scale input layers and dense decoder agg...   \n",
       "1  Truncated M13 phage for smart detection of E. ...   \n",
       "2  AI for Multistructure Incidental Findings and ...   \n",
       "3  Digital Whole Slide Image Analysis of Elevated...   \n",
       "4  Health Warnings on Instagram Advertisements fo...   \n",
       "\n",
       "   deep learning in virology  deep learning in epidemiology  \\\n",
       "0                   0.952872                       0.938716   \n",
       "1                   0.946782                       0.882754   \n",
       "2                   0.175686                       0.716531   \n",
       "3                   0.213716                       0.538159   \n",
       "4                   0.855169                       0.902817   \n",
       "\n",
       "                                      title_abstract  computer vision  \\\n",
       "0  Multi-scale input layers and dense decoder agg...         0.147727   \n",
       "1  Truncated M13 phage for smart detection of E. ...         0.966224   \n",
       "2  AI for Multistructure Incidental Findings and ...         0.113535   \n",
       "3  Digital Whole Slide Image Analysis of Elevated...         0.870068   \n",
       "4  Health Warnings on Instagram Advertisements fo...         0.969292   \n",
       "\n",
       "   text mining            label  \n",
       "0     0.043978            other  \n",
       "1     0.478241  computer vision  \n",
       "2     0.711038      text mining  \n",
       "3     0.602624             both  \n",
       "4     0.889679             both  "
      ]
     },
     "execution_count": 46,
     "metadata": {},
     "output_type": "execute_result"
    }
   ],
   "source": [
    "classified_df.head()"
   ]
  },
  {
   "cell_type": "code",
   "execution_count": 48,
   "id": "93f00c8f-9527-45be-b54a-b5666e284b90",
   "metadata": {},
   "outputs": [
    {
     "data": {
      "text/plain": [
       "label\n",
       "text mining        2657\n",
       "other              2018\n",
       "both                918\n",
       "computer vision     239\n",
       "Name: count, dtype: int64"
      ]
     },
     "execution_count": 48,
     "metadata": {},
     "output_type": "execute_result"
    }
   ],
   "source": [
    "classified_df['label'].value_counts()"
   ]
  },
  {
   "cell_type": "code",
   "execution_count": 50,
   "id": "108b3237",
   "metadata": {},
   "outputs": [],
   "source": [
    "classified_df.to_csv('results/filtered_classified_papers.csv', index=False)"
   ]
  },
  {
   "cell_type": "code",
   "execution_count": null,
   "id": "7ef1844b-491e-461d-b82f-257878422248",
   "metadata": {},
   "outputs": [],
   "source": []
  }
 ],
 "metadata": {
  "kernelspec": {
   "display_name": "Python 3 (ipykernel)",
   "language": "python",
   "name": "python3"
  },
  "language_info": {
   "codemirror_mode": {
    "name": "ipython",
    "version": 3
   },
   "file_extension": ".py",
   "mimetype": "text/x-python",
   "name": "python",
   "nbconvert_exporter": "python",
   "pygments_lexer": "ipython3",
   "version": "3.11.4"
  }
 },
 "nbformat": 4,
 "nbformat_minor": 5
}
